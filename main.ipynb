{
 "cells": [
  {
   "cell_type": "code",
   "execution_count": 1,
   "metadata": {},
   "outputs": [],
   "source": [
    "from nltk.tokenize import sent_tokenize,word_tokenize\n",
    "from nltk.corpus import stopwords\n",
    "from collections import defaultdict\n",
    "from string import punctuation\n",
    "from heapq import nlargest\n",
    "\n",
    "class FrequencySummarizer:\n",
    "  def __init__(self, min_cut=0.1, max_cut=0.9):\n",
    "    \"\"\" Words that have a frequency term lower than min_cut or higer than max_cut will be ignored. \"\"\"\n",
    "    self._min_cut = min_cut\n",
    "    self._max_cut = max_cut \n",
    "    self._stopwords = set(stopwords.words('english') + list(punctuation))\n",
    "\n",
    "  def _compute_frequencies(self, word_sent):\n",
    "    \"\"\" \n",
    "      Input: a list of sentences already tokenized.\n",
    "      Output:  a dictionary where freq[w] is the frequency of w.\n",
    "    \"\"\"\n",
    "    freq = defaultdict(int)\n",
    "    for s in word_sent:\n",
    "      for word in s:\n",
    "        if word not in self._stopwords:\n",
    "          freq[word] += 1\n",
    "    # frequencies normalization and fitering\n",
    "    m = float(max(freq.values()))\n",
    "    for w in list(freq):\n",
    "      freq[w] = freq[w]/m\n",
    "      if freq[w] >= self._max_cut or freq[w] <= self._min_cut:\n",
    "        del freq[w]\n",
    "    return freq\n",
    "\n",
    "  def summarize(self, text, n):\n",
    "    \"\"\"\"\n",
    "    Return a list of n sentences which represent the summary of text.\n",
    "    \"\"\"\n",
    "    sents = sent_tokenize(text)\n",
    "    assert n <= len(sents)\n",
    "    word_sent = [word_tokenize(s.lower()) for s in sents]\n",
    "    self._freq = self._compute_frequencies(word_sent)\n",
    "    ranking = defaultdict(int)\n",
    "    for i,sent in enumerate(word_sent):\n",
    "      for w in sent:\n",
    "        if w in self._freq:\n",
    "          ranking[i] += self._freq[w]\n",
    "    sents_idx = self._rank(ranking, n)    \n",
    "    return [sents[j] for j in sents_idx]\n",
    "\n",
    "  def _rank(self, ranking, n):\n",
    "    \"\"\" return the first n sentences with highest ranking \"\"\"\n",
    "    return nlargest(n, ranking, key=ranking.get)\n",
    "   "
   ]
  },
  {
   "cell_type": "code",
   "execution_count": 9,
   "metadata": {},
   "outputs": [
    {
     "name": "stdout",
     "output_type": "stream",
     "text": [
      "----------------------------------\n",
      "North Korea: UN imposes fresh sanctions over missile tests - BBC News\n",
      "* It has continued to test nuclear and ballistic missiles despite these recent examples of UN pressure: The tough measures imposed over North Korea's missile programme target petrol supplies.\n",
      "* The Trump administration says it is seeking a diplomatic solution to the issue, and drafted this new set of sanctions: Last month, the US unveiled fresh sanctions against North Korea which it said were designed to limit the funding for its nuclear and ballistic missile programmes.\n",
      "----------------------------------\n",
      "Aldi stabbing: Jodie Willsher murder suspect charged - BBC News\n",
      "*  Share this with Email Facebook Messenger Messenger Twitter Pinterest WhatsApp LinkedIn Copy this link These are external links and will open in a new window A 44-year-old man has been charged with murdering a woman who was stabbed to death in an Aldi supermarket.\n",
      "* Matthew Barnes, chief executive officer of Aldi UK and Ireland, said the company was \"doing everything we can to support our people and all those affected during this difficult time\".\n",
      "----------------------------------\n",
      "Boris Johnson says UK wants better relations with Russia - BBC News\n",
      "* Ahead of the meeting in Moscow, the UK government said Mr Johnson would warn Russia to stop cyber-attacks which threaten Britain's national security or face retaliation of a similar kind from the UK.\n",
      "* Mr Lavrov hit back by telling Mr Johnson he himself had said Russia had not interfered in Britain's general election and Brexit referendum.\n",
      "----------------------------------\n",
      "Sweetie: 'Girl' chatbot targets thousands of paedophiles - BBC News\n",
      "*  Share this with Facebook Twitter Google+ Email Copy this link Share this with Facebook Twitter Google+ Email Copy this link Share this with Facebook Twitter Google+ Email Copy this link Share this with Facebook Twitter Google+ Email Copy this link Share this with Facebook Twitter Google+ Email Copy this link Share this with Facebook Twitter Google+ Email Copy this link Share this with Facebook Twitter Google+ Email Copy this link Paedophiles are being targeted online by an automated chatbot that makes them think they're talking to a 12-year-old girl.\n",
      "* The \"Sweetie\" project first made headlines in 2013.\n",
      "----------------------------------\n",
      "Bitcoin slump sees trades suspended on certain exchanges - BBC News\n",
      "*  Share this with Email Facebook Messenger Messenger Twitter Pinterest WhatsApp LinkedIn Copy this link These are external links and will open in a new window Bitcoin plunged on Friday, extending a fall that saw the crypto-currency lose more than a third of its value from a record of nearly $20,000 (£15,000).\n",
      "* One of this week's most striking comments comes from Denmark's central bank governor, who called it a \"deadly\" gamble.\n"
     ]
    }
   ],
   "source": [
    "import urllib.request\n",
    "from bs4 import BeautifulSoup\n",
    "\n",
    "def get_only_text(url):\n",
    "    \"\"\" return the title and the text of the article at the specified url \"\"\"\n",
    "    page = urllib.request.urlopen(url).read().decode('utf8')\n",
    "    soup = BeautifulSoup(page,\"html5lib\")\n",
    "    text = ' '.join(list(map(lambda p: p.text, soup.find_all('p'))))\n",
    "    return soup.title.text, text\n",
    " \n",
    "feed_xml = urllib.request.urlopen('http://feeds.bbci.co.uk/news/rss.xml').read()\n",
    "feed = BeautifulSoup(feed_xml.decode('utf8'),\"html5lib\")\n",
    "to_summarize = list(map(lambda p: p.text, feed.find_all('guid')))\n",
    "\n",
    "fs = FrequencySummarizer()\n",
    "for article_url in to_summarize[:5]:\n",
    "  title, text = get_only_text(article_url)\n",
    "  print('----------------------------------')\n",
    "  print(title)\n",
    "  for s in fs.summarize(text, 2):\n",
    "    print('*',s)"
   ]
  },
  {
   "cell_type": "code",
   "execution_count": null,
   "metadata": {},
   "outputs": [],
   "source": []
  }
 ],
 "metadata": {
  "kernelspec": {
   "display_name": "Python 3",
   "language": "python",
   "name": "python3"
  },
  "language_info": {
   "codemirror_mode": {
    "name": "ipython",
    "version": 3
   },
   "file_extension": ".py",
   "mimetype": "text/x-python",
   "name": "python",
   "nbconvert_exporter": "python",
   "pygments_lexer": "ipython3",
   "version": "3.6.3"
  }
 },
 "nbformat": 4,
 "nbformat_minor": 2
}
